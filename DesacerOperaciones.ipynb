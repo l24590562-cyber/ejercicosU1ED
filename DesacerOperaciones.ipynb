{
  "nbformat": 4,
  "nbformat_minor": 0,
  "metadata": {
    "colab": {
      "provenance": [],
      "authorship_tag": "ABX9TyNSfPyiJ/V412fj6zc4FiG4",
      "include_colab_link": true
    },
    "kernelspec": {
      "name": "python3",
      "display_name": "Python 3"
    },
    "language_info": {
      "name": "python"
    }
  },
  "cells": [
    {
      "cell_type": "markdown",
      "metadata": {
        "id": "view-in-github",
        "colab_type": "text"
      },
      "source": [
        "<a href=\"https://colab.research.google.com/github/l24590562-cyber/ejercicosU1ED/blob/main/DesacerOperaciones.ipynb\" target=\"_parent\"><img src=\"https://colab.research.google.com/assets/colab-badge.svg\" alt=\"Open In Colab\"/></a>"
      ]
    },
    {
      "cell_type": "code",
      "execution_count": 1,
      "metadata": {
        "colab": {
          "base_uri": "https://localhost:8080/"
        },
        "id": "DLeG7btCCLHl",
        "outputId": "abea4b4f-46ff-4d42-f55a-0b8bba894b29"
      },
      "outputs": [
        {
          "output_type": "stream",
          "name": "stdout",
          "text": [
            "Texto actual: Hola\n",
            "Texto actual: Hola Mundo\n",
            "Texto actual: Hola\n",
            "Texto actual: Hola Mundo\n",
            "Texto actual: Hola\n"
          ]
        }
      ],
      "source": [
        "#Ejercico 3\n",
        "class Pila:\n",
        "    def __init__(self):\n",
        "        self.items = []\n",
        "\n",
        "    def push(self, dato):\n",
        "        self.items.append(dato)\n",
        "\n",
        "    def pop(self):\n",
        "        return self.items.pop() if not self.is_empty() else None\n",
        "\n",
        "    def is_empty(self):\n",
        "        return len(self.items) == 0\n",
        "\n",
        "class EditorTexto:\n",
        "    def __init__(self):\n",
        "        self.texto = \"\"\n",
        "        self.operaciones = Pila()\n",
        "\n",
        "    def escribir(self, contenido):\n",
        "        self.texto += contenido\n",
        "        self.operaciones.push((\"escribir\", contenido))\n",
        "\n",
        "    def borrar(self, cantidad):\n",
        "        borrado = self.texto[-cantidad:]\n",
        "        self.texto = self.texto[:-cantidad]\n",
        "        self.operaciones.push((\"borrar\", borrado))\n",
        "\n",
        "    def deshacer(self):\n",
        "        if self.operaciones.is_empty():\n",
        "            print(\"Nada que deshacer.\")\n",
        "            return\n",
        "        operacion, valor = self.operaciones.pop()\n",
        "        if operacion == \"escribir\":\n",
        "            self.texto = self.texto[:-len(valor)]\n",
        "        elif operacion == \"borrar\":\n",
        "            self.texto += valor\n",
        "\n",
        "    def mostrar_texto(self):\n",
        "        print(\"Texto actual:\", self.texto)\n",
        "\n",
        "editor = EditorTexto()\n",
        "editor.escribir(\"Hola\")\n",
        "editor.mostrar_texto()\n",
        "\n",
        "editor.escribir(\" Mundo\")\n",
        "editor.mostrar_texto()\n",
        "\n",
        "editor.borrar(6)\n",
        "editor.mostrar_texto()\n",
        "\n",
        "editor.deshacer()\n",
        "editor.mostrar_texto()\n",
        "\n",
        "editor.deshacer()\n",
        "editor.mostrar_texto()\n"
      ]
    }
  ]
}