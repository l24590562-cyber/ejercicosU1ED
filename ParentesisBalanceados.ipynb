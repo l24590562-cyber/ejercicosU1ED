{
  "nbformat": 4,
  "nbformat_minor": 0,
  "metadata": {
    "colab": {
      "provenance": [],
      "authorship_tag": "ABX9TyN3o9Dtf0i66yd9CQMi/FwV",
      "include_colab_link": true
    },
    "kernelspec": {
      "name": "python3",
      "display_name": "Python 3"
    },
    "language_info": {
      "name": "python"
    }
  },
  "cells": [
    {
      "cell_type": "markdown",
      "metadata": {
        "id": "view-in-github",
        "colab_type": "text"
      },
      "source": [
        "<a href=\"https://colab.research.google.com/github/l24590562-cyber/ejercicosU1ED/blob/main/ParentesisBalanceados.ipynb\" target=\"_parent\"><img src=\"https://colab.research.google.com/assets/colab-badge.svg\" alt=\"Open In Colab\"/></a>"
      ]
    },
    {
      "cell_type": "code",
      "execution_count": 1,
      "metadata": {
        "colab": {
          "base_uri": "https://localhost:8080/"
        },
        "id": "gHTNdBFp4l1w",
        "outputId": "5b3ec896-e013-4115-e784-9f62a836780f"
      },
      "outputs": [
        {
          "output_type": "stream",
          "name": "stdout",
          "text": [
            "True\n",
            "False\n",
            "True\n",
            "False\n"
          ]
        }
      ],
      "source": [
        "#Pilas Ejercico 1\n",
        "class Pila:\n",
        "    def __init__(self):\n",
        "        self.items = []\n",
        "\n",
        "    def push(self, dato):\n",
        "        self.items.append(dato)\n",
        "\n",
        "    def pop(self):\n",
        "        return self.items.pop() if not self.is_empty() else None\n",
        "\n",
        "    def is_empty(self):\n",
        "        return len(self.items) == 0\n",
        "\n",
        "def parentesis_balanceados(expresion):\n",
        "    pila = Pila()\n",
        "    for caracter in expresion:\n",
        "        if caracter == '(':\n",
        "            pila.push(caracter)\n",
        "        elif caracter == ')':\n",
        "            if pila.is_empty():\n",
        "                return False\n",
        "            pila.pop()\n",
        "    return pila.is_empty()\n",
        "\n",
        "print(parentesis_balanceados(\"((a+b)*c)\"))\n",
        "print(parentesis_balanceados(\"(a+b))(\"))\n",
        "print(parentesis_balanceados(\"((()))\"))\n",
        "print(parentesis_balanceados(\")(\"))\n"
      ]
    }
  ]
}