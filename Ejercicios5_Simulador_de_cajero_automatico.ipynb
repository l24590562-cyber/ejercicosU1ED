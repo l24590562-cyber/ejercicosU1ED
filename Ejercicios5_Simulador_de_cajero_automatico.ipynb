{
  "nbformat": 4,
  "nbformat_minor": 0,
  "metadata": {
    "colab": {
      "provenance": [],
      "authorship_tag": "ABX9TyNLO4gEGsx5JdCgWci+WREw",
      "include_colab_link": true
    },
    "kernelspec": {
      "name": "python3",
      "display_name": "Python 3"
    },
    "language_info": {
      "name": "python"
    }
  },
  "cells": [
    {
      "cell_type": "markdown",
      "metadata": {
        "id": "view-in-github",
        "colab_type": "text"
      },
      "source": [
        "<a href=\"https://colab.research.google.com/github/l24590562-cyber/ejercicosU1ED/blob/main/Ejercicios5_Simulador_de_cajero_automatico.ipynb\" target=\"_parent\"><img src=\"https://colab.research.google.com/assets/colab-badge.svg\" alt=\"Open In Colab\"/></a>"
      ]
    },
    {
      "cell_type": "code",
      "execution_count": 1,
      "metadata": {
        "colab": {
          "base_uri": "https://localhost:8080/"
        },
        "id": "3RggX9d-ym7Q",
        "outputId": "c94713ee-a45a-4c3f-c40f-559395696d80"
      },
      "outputs": [
        {
          "output_type": "stream",
          "name": "stdout",
          "text": [
            "Atendiendo a Ana - Transacción: Retiro\n",
            "Ana está retirando dinero.\n",
            "-----\n",
            "Atendiendo a Luis - Transacción: Depósito\n",
            "Luis está depositando dinero.\n",
            "-----\n",
            "Atendiendo a María - Transacción: Consulta\n",
            "María está consultando su saldo.\n",
            "-----\n",
            "Atendiendo a Pedro - Transacción: Retiro\n",
            "Pedro está retirando dinero.\n",
            "-----\n"
          ]
        }
      ],
      "source": [
        "#Ejercicio 5\n",
        "class Cola:\n",
        "    def __init__(self):\n",
        "        self.items = []\n",
        "\n",
        "    def enqueue(self, dato):\n",
        "        self.items.append(dato)\n",
        "\n",
        "    def dequeue(self):\n",
        "        return self.items.pop(0) if not self.is_empty() else None\n",
        "\n",
        "    def is_empty(self):\n",
        "        return len(self.items) == 0\n",
        "\n",
        "def procesar_transaccion(cliente):\n",
        "    nombre = cliente[\"nombre\"]\n",
        "    transaccion = cliente[\"transaccion\"]\n",
        "    print(f\"Atendiendo a {nombre} - Transacción: {transaccion.capitalize()}\")\n",
        "    if transaccion == \"retiro\":\n",
        "        print(f\"{nombre} está retirando dinero.\")\n",
        "    elif transaccion == \"depósito\":\n",
        "        print(f\"{nombre} está depositando dinero.\")\n",
        "    elif transaccion == \"consulta\":\n",
        "        print(f\"{nombre} está consultando su saldo.\")\n",
        "    else:\n",
        "        print(\"Transacción no reconocida.\")\n",
        "    print(\"-----\")\n",
        "\n",
        "cola_banco = Cola()\n",
        "\n",
        "cola_banco.enqueue({\"nombre\": \"Ana\", \"transaccion\": \"retiro\"})\n",
        "cola_banco.enqueue({\"nombre\": \"Luis\", \"transaccion\": \"depósito\"})\n",
        "cola_banco.enqueue({\"nombre\": \"María\", \"transaccion\": \"consulta\"})\n",
        "cola_banco.enqueue({\"nombre\": \"Pedro\", \"transaccion\": \"retiro\"})\n",
        "\n",
        "while not cola_banco.is_empty():\n",
        "    cliente = cola_banco.dequeue()\n",
        "    procesar_transaccion(cliente)\n"
      ]
    }
  ]
}