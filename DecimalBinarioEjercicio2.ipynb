{
  "nbformat": 4,
  "nbformat_minor": 0,
  "metadata": {
    "colab": {
      "provenance": [],
      "authorship_tag": "ABX9TyPRwxTTwM34UDXhpBwgpe1H",
      "include_colab_link": true
    },
    "kernelspec": {
      "name": "python3",
      "display_name": "Python 3"
    },
    "language_info": {
      "name": "python"
    }
  },
  "cells": [
    {
      "cell_type": "markdown",
      "metadata": {
        "id": "view-in-github",
        "colab_type": "text"
      },
      "source": [
        "<a href=\"https://colab.research.google.com/github/l24590562-cyber/ejercicosU1ED/blob/main/DecimalBinarioEjercicio2.ipynb\" target=\"_parent\"><img src=\"https://colab.research.google.com/assets/colab-badge.svg\" alt=\"Open In Colab\"/></a>"
      ]
    },
    {
      "cell_type": "code",
      "execution_count": 2,
      "metadata": {
        "colab": {
          "base_uri": "https://localhost:8080/"
        },
        "id": "kMWWlWgV9Azf",
        "outputId": "6844eb20-14c8-43d3-f6d5-065fac33d775"
      },
      "outputs": [
        {
          "output_type": "stream",
          "name": "stdout",
          "text": [
            "Ingresa un número decimal para convertir a binario: 12\n",
            "El número binario es:\n",
            "1100\n"
          ]
        }
      ],
      "source": [
        "#Ejercico 2\n",
        "class Pila:\n",
        "    def __init__(self):\n",
        "        self.items = []\n",
        "\n",
        "    def push(self, item):\n",
        "        self.items.append(item)\n",
        "\n",
        "    def pop(self):\n",
        "        if not self.isEmpty():\n",
        "            return self.items.pop()\n",
        "        else:\n",
        "            return None\n",
        "    def isEmpty(self):\n",
        "        return self.items == []\n",
        "\n",
        "    def decimalBinario(self):\n",
        "        decimal = int(input(\"Ingresa un número decimal para convertir a binario: \"))\n",
        "        pila_binario = Pila()\n",
        "        if decimal == 0:\n",
        "            pila_binario.push(0)\n",
        "        else:\n",
        "            while decimal > 0:\n",
        "                residuo = decimal % 2\n",
        "                pila_binario.push(residuo)\n",
        "                decimal = decimal // 2\n",
        "        return pila_binario\n",
        "\n",
        "pb = Pila()\n",
        "pila_resultante = pb.decimalBinario()\n",
        "print(\"El número binario es:\")\n",
        "while not pila_resultante.isEmpty():\n",
        "    print(pila_resultante.pop(), end=\"\")\n",
        "print()"
      ]
    }
  ]
}